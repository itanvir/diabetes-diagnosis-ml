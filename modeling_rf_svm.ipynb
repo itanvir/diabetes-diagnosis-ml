{
 "cells": [
  {
   "cell_type": "code",
   "execution_count": 1,
   "id": "0996872c",
   "metadata": {},
   "outputs": [],
   "source": [
    "%load_ext autoreload\n",
    "%autoreload 2\n",
    "\n",
    "import matplotlib.pyplot as plt\n",
    "\n",
    "from util import *"
   ]
  },
  {
   "cell_type": "code",
   "execution_count": 2,
   "id": "d659a6bb",
   "metadata": {
    "scrolled": true
   },
   "outputs": [
    {
     "name": "stdout",
     "output_type": "stream",
     "text": [
      "After removing rows and columns:  (97865, 35)\n"
     ]
    },
    {
     "name": "stderr",
     "output_type": "stream",
     "text": [
      "/Users/tanvirislam/opt/miniconda3/envs/project/lib/python3.10/site-packages/pandas/core/algorithms.py:798: FutureWarning: In a future version, the Index constructor will not infer numeric dtypes when passed object-dtype sequences (matching Series behavior)\n",
      "  uniques = Index(uniques)\n"
     ]
    },
    {
     "name": "stdout",
     "output_type": "stream",
     "text": [
      "Index(['age', 'time_in_hospital', 'medical_specialty', 'num_lab_procedures',\n",
      "       'num_procedures', 'num_medications', 'number_outpatient',\n",
      "       'number_emergency', 'number_inpatient', 'number_diagnoses', 'metformin',\n",
      "       'repaglinide', 'nateglinide', 'chlorpropamide', 'glimepiride',\n",
      "       'glipizide', 'glyburide', 'pioglitazone', 'rosiglitazone', 'acarbose',\n",
      "       'insulin', 'glyburide-metformin', 'change', 'diabetesMed', 'readmitted',\n",
      "       'num_med_change', 'num_medications|time_in_hospital',\n",
      "       'num_medications|num_procedures', 'time_in_hospital|num_lab_procedures',\n",
      "       'num_medications|num_lab_procedures',\n",
      "       'num_medications|number_diagnoses', 'age|number_diagnoses',\n",
      "       'change|num_medications', 'number_diagnoses|time_in_hospital',\n",
      "       'num_medications|num_med_change', 'gender_1', 'admission_type_id_3',\n",
      "       'admission_type_id_4', 'admission_type_id_5',\n",
      "       'discharge_disposition_id_2', 'discharge_disposition_id_7',\n",
      "       'discharge_disposition_id_10', 'discharge_disposition_id_18',\n",
      "       'discharge_disposition_id_19', 'discharge_disposition_id_20',\n",
      "       'discharge_disposition_id_27', 'discharge_disposition_id_28',\n",
      "       'admission_source_id_4', 'admission_source_id_7',\n",
      "       'admission_source_id_8', 'admission_source_id_9',\n",
      "       'admission_source_id_11', 'max_glu_serum_0', 'max_glu_serum_1',\n",
      "       'A1Cresult_0', 'A1Cresult_1', 'diag_1.0', 'diag_2.0', 'diag_3.0',\n",
      "       'diag_4.0', 'diag_5.0', 'diag_6.0', 'diag_7.0', 'diag_8.0',\n",
      "       'AfricanAmerican', 'Asian', 'Caucasian', 'Hispanic', 'Other'],\n",
      "      dtype='object')\n"
     ]
    }
   ],
   "source": [
    "# Generate train/test data\n",
    "X_train, X_test, y_train, y_test = generate_training_data()"
   ]
  },
  {
   "cell_type": "code",
   "execution_count": 3,
   "id": "f5a7fbc6",
   "metadata": {},
   "outputs": [
    {
     "name": "stdout",
     "output_type": "stream",
     "text": [
      "RF\n",
      "0.9356990446165971\n",
      "              precision    recall  f1-score   support\n",
      "\n",
      "           0       0.89      1.00      0.94     25893\n",
      "           1       1.00      0.87      0.93     26128\n",
      "\n",
      "    accuracy                           0.94     52021\n",
      "   macro avg       0.94      0.94      0.94     52021\n",
      "weighted avg       0.94      0.94      0.94     52021\n",
      "\n"
     ]
    },
    {
     "data": {
      "text/plain": [
       "Text(0.5, 1.0, 'Random Forest/All Features')"
      ]
     },
     "execution_count": 3,
     "metadata": {},
     "output_type": "execute_result"
    },
    {
     "data": {
      "image/png": "[encoded data removed]",
      "text/plain": [
       "<Figure size 432x288 with 1 Axes>"
      ]
     },
     "metadata": {},
     "output_type": "display_data"
    }
   ],
   "source": [
    "# Random forest\n",
    "cv_scores = model_training_random_forest(X_train, y_train, X_test, y_test)\n",
    "plot_cv_scores(cv_scores)\n",
    "plt.title(\"Random Forest/All Features\")"
   ]
  },
  {
   "cell_type": "code",
   "execution_count": null,
   "id": "91324d1c",
   "metadata": {},
   "outputs": [],
   "source": [
    "# SVM\n",
    "cv_scores = model_training_svm(X_train, y_train, X_test, y_test)\n",
    "plt.figure()\n",
    "plot_cv_scores(cv_scores)\n",
    "plt.title(\"SVM/All Features\")"
   ]
  }
 ],
 "metadata": {
  "kernelspec": {
   "display_name": "Python 3 (ipykernel)",
   "language": "python",
   "name": "python3"
  },
  "language_info": {
   "codemirror_mode": {
    "name": "ipython",
    "version": 3
   },
   "file_extension": ".py",
   "mimetype": "text/x-python",
   "name": "python",
   "nbconvert_exporter": "python",
   "pygments_lexer": "ipython3",
   "version": "3.10.4"
  }
 },
 "nbformat": 4,
 "nbformat_minor": 5
}
